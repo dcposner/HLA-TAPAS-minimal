{
 "cells": [
  {
   "cell_type": "markdown",
   "metadata": {
    "toc-hr-collapsed": false
   },
   "source": [
    "# Supplementary Figures for *Luo et al. 2020*\n",
    "\n",
    "(*A high-resolution HLA reference panel capturing global population diversity enables multi-ethnic fine-mapping in HIV host response*)\n",
    "\n",
    "\n",
    "**Code for reproducing supplementary figures in the manuscript**\n",
    "\n",
    "For any question please contact the first author Yang Luo: yangluo@broadinstitute.org"
   ]
  },
  {
   "cell_type": "markdown",
   "metadata": {},
   "source": [
    "## loading up libraries and presettings"
   ]
  },
  {
   "cell_type": "code",
   "execution_count": 1,
   "metadata": {},
   "outputs": [
    {
     "name": "stderr",
     "output_type": "stream",
     "text": [
      "Warning message:\n",
      "“package ‘ggplot2’ was built under R version 3.6.2”\n",
      "Warning message:\n",
      "“package ‘reshape2’ was built under R version 3.6.2”\n",
      "Warning message:\n",
      "“package ‘reticulate’ was built under R version 3.6.2”\n",
      "Warning message:\n",
      "“package ‘patchwork’ was built under R version 3.6.2”\n",
      "Warning message:\n",
      "“package ‘scales’ was built under R version 3.6.2”\n",
      "Warning message:\n",
      "“package ‘dplyr’ was built under R version 3.6.2”\n",
      "Warning message:\n",
      "“package ‘tidyr’ was built under R version 3.6.2”\n",
      "Warning message:\n",
      "“package ‘umap’ was built under R version 3.6.2”\n",
      "Warning message:\n",
      "“package ‘cowplot’ was built under R version 3.6.2”\n",
      "Warning message:\n",
      "“package ‘plotrix’ was built under R version 3.6.2”\n",
      "Warning message:\n",
      "“package ‘ggpubr’ was built under R version 3.6.2”\n"
     ]
    }
   ],
   "source": [
    "#Load libraries\n",
    "suppressPackageStartupMessages({\n",
    "    library(ggplot2)\n",
    "    library(reshape2)\n",
    "    library(reticulate)\n",
    "    library(repr)\n",
    "    library(patchwork)\n",
    "    library(plyr)\n",
    "    library(scales)\n",
    "    library(RColorBrewer)\n",
    "    library(dplyr)\n",
    "    library(data.table)\n",
    "    library(ggthemes)\n",
    "    library(ggsci)\n",
    "    library(rsvd)\n",
    "    library(tidyr)\n",
    "    library(ggrepel)\n",
    "    library(umap)\n",
    "    library(gridExtra)\n",
    "    library(cowplot)\n",
    "    library(plotrix)\n",
    "    library(ggpubr)\n",
    "    library(grid)\n",
    "    library(corrplot)\n",
    "    library(stringr)\n",
    "})"
   ]
  },
  {
   "cell_type": "code",
   "execution_count": 2,
   "metadata": {},
   "outputs": [],
   "source": [
    "# set global plotting parameters\n",
    "theme_set(theme_classic() + theme(text = element_text(size=20, family = \"sans\")))\n",
    "\n",
    "options(repr.plot.width = 10, repr.plot.height = 7)\n",
    "\n",
    "#pop_colors <- c(\"black\", \"#E69F00\",\"#56B4E9\",\"#D55E00\",\"#009E73\")\n",
    "pop_colors <- c(\"#938dd2\",\"#E69F00\" ,\"#56B4E9\",\"#D55E00\",\"#009E73\")\n",
    "\n",
    "pop_labels <- c(\"Admixed African\",\"East Asian\",\"European\",\"Latino\", \"South Asian\")\n",
    "\n",
    "#Calc color palette (discrete)\n",
    "gene_colors <- c(\"A\"=\"#004586\", \"B\" = \"#ff420e\", \"C\"=\"#ffd320\", \n",
    "                 \"DQA1\" = \"#579d1c\", \"DQB1\" = \"#7e0021\", \"DRB1\" = \"#83caff\",\"DPA1\" = \"#314004\", \"DPB1\" = \"#aecf00\"  )\n"
   ]
  },
  {
   "cell_type": "markdown",
   "metadata": {
    "toc-hr-collapsed": true,
    "toc-nb-collapsed": true
   },
   "source": [
    "## HLA-LA typing accuracy (SF1)"
   ]
  },
  {
   "cell_type": "markdown",
   "metadata": {},
   "source": [
    "### (SF1)"
   ]
  },
  {
   "cell_type": "code",
   "execution_count": null,
   "metadata": {},
   "outputs": [],
   "source": []
  },
  {
   "cell_type": "code",
   "execution_count": null,
   "metadata": {},
   "outputs": [],
   "source": []
  },
  {
   "cell_type": "code",
   "execution_count": null,
   "metadata": {},
   "outputs": [],
   "source": []
  },
  {
   "cell_type": "code",
   "execution_count": null,
   "metadata": {},
   "outputs": [],
   "source": []
  },
  {
   "cell_type": "code",
   "execution_count": null,
   "metadata": {},
   "outputs": [],
   "source": []
  },
  {
   "cell_type": "code",
   "execution_count": null,
   "metadata": {},
   "outputs": [],
   "source": []
  },
  {
   "cell_type": "code",
   "execution_count": null,
   "metadata": {},
   "outputs": [],
   "source": []
  },
  {
   "cell_type": "code",
   "execution_count": 8,
   "metadata": {},
   "outputs": [],
   "source": [
    "allele.summary <- read.table(\"../data/Ggroup_allele_summary.txt.gz\",h=T,stringsAsFactors = F)\n",
    "\n",
    "allele.summary$Gene <- sapply(strsplit(allele.summary[,1], \"\\\\*\"), \"[[\", 1)"
   ]
  },
  {
   "cell_type": "code",
   "execution_count": null,
   "metadata": {},
   "outputs": [],
   "source": []
  },
  {
   "cell_type": "code",
   "execution_count": null,
   "metadata": {},
   "outputs": [],
   "source": []
  },
  {
   "cell_type": "code",
   "execution_count": null,
   "metadata": {},
   "outputs": [],
   "source": []
  },
  {
   "cell_type": "code",
   "execution_count": null,
   "metadata": {},
   "outputs": [],
   "source": []
  },
  {
   "cell_type": "code",
   "execution_count": null,
   "metadata": {},
   "outputs": [],
   "source": []
  },
  {
   "cell_type": "code",
   "execution_count": null,
   "metadata": {},
   "outputs": [],
   "source": []
  },
  {
   "cell_type": "code",
   "execution_count": null,
   "metadata": {},
   "outputs": [],
   "source": []
  },
  {
   "cell_type": "code",
   "execution_count": 3,
   "metadata": {},
   "outputs": [],
   "source": [
    "allele.summary <- read.table(\"../data/Ggroup_allele_summary.txt.gz\",h=T,stringsAsFactors = F)\n",
    "\n",
    "allele.summary$Gene <- sapply(strsplit(allele.summary[,1], \"\\\\*\"), \"[[\", 1)"
   ]
  },
  {
   "cell_type": "code",
   "execution_count": null,
   "metadata": {},
   "outputs": [],
   "source": []
  },
  {
   "cell_type": "code",
   "execution_count": 4,
   "metadata": {},
   "outputs": [],
   "source": [
    "allele.summary <- read.table(\"../data/Ggroup_allele_summary.txt.gz\",h=T,stringsAsFactors = F)\n",
    "\n",
    "allele.summary$Gene <- sapply(strsplit(allele.summary[,1], \"\\\\*\"), \"[[\", 1)"
   ]
  },
  {
   "cell_type": "code",
   "execution_count": 5,
   "metadata": {},
   "outputs": [],
   "source": [
    "allele.summary <- read.table(\"../data/Ggroup_allele_summary.txt.gz\",h=T,stringsAsFactors = F)\n",
    "\n",
    "allele.summary$Gene <- sapply(strsplit(allele.summary[,1], \"\\\\*\"), \"[[\", 1)\n"
   ]
  },
  {
   "cell_type": "markdown",
   "metadata": {},
   "source": [
    "### Japanese inferred G-group accuracy (N = 288) (SF1a)"
   ]
  },
  {
   "cell_type": "code",
   "execution_count": null,
   "metadata": {},
   "outputs": [],
   "source": [
    "jpn <- allele.summary[!is.na(allele.summary$JPNaccuracy),]\n",
    "jpn$label <- ifelse(jpn$JPNaccuracy<0.95,jpn$Allele,\"\")\n",
    "\n",
    "gold_standard <- read.table(\"../data/JPN_gold_standard_Ggroups.txt\",h=F)\n",
    "gs.n <- unique(c(gold_standard[,7:22])) %>% unlist() %>% table() %>% as.data.frame()\n",
    "names(gs.n) <-  c(\"Allele\",\"n\")\n",
    "\n",
    "jpn$n <- gs.n[match(jpn$Allele,gs.n$Allele),2]\n",
    "df <- jpn %>% filter(n>=5)\n",
    "dim(df)\n",
    "p <- ggplot(df,aes(x=log10(Freq),y=JPNaccuracy,label=label, color=Gene)) + geom_point() \n",
    "\n",
    "p <- p + ylab(\"HLA*LA inferred G-group accuracy\") + ylim(0,1)+\n",
    " scale_x_continuous(name = \"log10(Frequency)\",breaks=c(-4,-3, -2, -1,0),limits=c(-4,0),\n",
    "                       labels=c(expression(10^-4),expression(10^-3),expression(10^-2),expression(10^-1),expression(10^0)))\n",
    "\n",
    "p + geom_text_repel(size=5, show.legend = FALSE) + scale_colour_manual( values = gene_colors)\n",
    "ggsave(\"../figs/SF1a_JPN_HLA_LA_accuracy.pdf\",width=10,height=7)"
   ]
  },
  {
   "cell_type": "markdown",
   "metadata": {},
   "source": [
    "### HLA*LA typing accuracy in 1KG (SF1b)"
   ]
  },
  {
   "cell_type": "code",
   "execution_count": null,
   "metadata": {},
   "outputs": [],
   "source": [
    "g1k <- allele.summary[!is.na(allele.summary$G1Kaccuracy),]\n",
    "g1k$label <- ifelse(g1k$G1Kaccuracy<0.95,g1k$Allele,\"\")\n",
    "\n",
    "g1k.goldstandard.ggroup <- read.table(\"../data/G1k_gold_standard_Ggroups.txt\",header = T,stringsAsFactors = F)\n",
    "\n",
    "gs.n <- unique(c(g1k.goldstandard.ggroup[,2:10])) %>% unlist() %>% table() %>% as.data.frame()\n",
    "\n",
    "names(gs.n) <-  c(\"Allele\",\"n\")\n",
    "\n",
    "g1k$n <- gs.n[match(g1k$Allele,gs.n$Allele),2]\n",
    "df <- g1k %>% filter(n>=5)\n",
    "\n",
    "p <- ggplot(df,aes(x=log10(Freq),y=G1Kaccuracy,label=label, color=Gene)) + geom_point() \n",
    "\n",
    "p <- p + ylab(\"HLA*LA inferred G-group accuracy\")+ ylim(0,1) + \n",
    " scale_x_continuous(name = \"log10(Frequency)\",breaks=c(-3, -2, -1,0),limits = c(-3,0),\n",
    "                       labels=c(expression(10^-3),expression(10^-2),expression(10^-1),expression(10^0)))\n",
    "\n",
    "p + geom_text_repel(size=5, show.legend = FALSE) +\n",
    "    scale_colour_manual(values = gene_colors)\n",
    "\n",
    "ggsave(\"../figs/SF1b_G1K_HLA_LA_accuracy.pdf\",width=10,height=7)\n",
    "\n"
   ]
  },
  {
   "cell_type": "markdown",
   "metadata": {
    "toc-hr-collapsed": true,
    "toc-nb-collapsed": true
   },
   "source": [
    "## 1000G diversity (SF2)"
   ]
  },
  {
   "cell_type": "markdown",
   "metadata": {},
   "source": [
    "###  PC (SF2a)\n"
   ]
  },
  {
   "cell_type": "code",
   "execution_count": null,
   "metadata": {},
   "outputs": [],
   "source": [
    "## Get data (pairwise IBD using beagle)\n",
    "ibd <- read.table(\"../data/deep1000Gibd.txt.gz\", row.names = 1, header = T, stringsAsFactors = F)\n",
    "sampleInfo <- read.table(\"../data/g1k_samples.txt\",header = T, stringsAsFactors = F )\n",
    "mhc <- ibd[row.names(ibd) %in% sampleInfo$sample,names(ibd) %in% sampleInfo$sample]\n",
    "mhc_scale <- scale(mhc)\n",
    "# calculate PCs\n",
    "mhc.pca <- rsvd(as.matrix(mhc_scale), k=30)\n",
    "x <- rpca(as.matrix(mhc_scale), k=30)"
   ]
  },
  {
   "cell_type": "code",
   "execution_count": null,
   "metadata": {},
   "outputs": [],
   "source": [
    "# getting variance explained from rpca function\n",
    "varexp <- summary(x)[3,1:2]*100\n",
    "\n",
    "dfplt <- as.data.frame(mhc.pca$u[,1:5])\n",
    "\n",
    "dfplt$ancestry <- sampleInfo[match(row.names(ibd),sampleInfo$sample),]$super_pop\n",
    "\n",
    "dfplt[dfplt$ancestry==\"AMR\",]$ancestry <- \"LAT\"\n",
    "g1k.pc.plt <- ggplot(dfplt,aes(V1,V2,colour=ancestry))+geom_point()\n",
    "g1k.pc.plt <- g1k.pc.plt + scale_color_manual(values = pop_colors,\n",
    "                                              name=\"Population\",labels=c(\"African\",\"East Asian\",\"European\",\"Latino\",\"South Asian\")) + \n",
    "theme_base() +\n",
    "    xlab(paste(\"PC1 (\",round(varexp[1],2),\"%)\",sep=\"\"))+ylab(paste(\"PC2 (\",round(varexp[2],2),\"%)\",sep=\"\"))\n",
    "\n",
    "\n",
    "g1k.pc.plt <- g1k.pc.plt + theme(legend.position=\"top\",\n",
    "                        plot.background=element_blank(),\n",
    "                        text = element_text(family = \"sans\")) \n",
    "\n",
    "g1k.pc.plt + scale_x_continuous(breaks = 0) + scale_y_continuous(breaks = 0)\n",
    "\n",
    "ggsave(filename = \"../figs/SF2a_G1K-PCA.pdf\",height=8,width=9)"
   ]
  },
  {
   "cell_type": "markdown",
   "metadata": {},
   "source": [
    "### UMAP (SF2b)"
   ]
  },
  {
   "cell_type": "code",
   "execution_count": null,
   "metadata": {},
   "outputs": [],
   "source": [
    "g1k.umap <- umap(mhc_scale,min_dist=0.9,n_neighbors=250)\n",
    "umap.plt <- data.frame(g1k.umap$layout)\n",
    "\n",
    "umap.plt $ancestry <- sampleInfo[match(row.names(umap.plt ),sampleInfo$sample),]$super_pop\n",
    "umap.plt[umap.plt$ancestry==\"AMR\",] $ancestry <- \"LAT\"\n",
    "\n",
    "g1k.umap.plt <- ggplot(umap.plt ,aes(X1,X2,colour=ancestry))+geom_point()\n",
    "g1k.umap.plt <- g1k.umap.plt + scale_color_manual(values = pop_colors,\n",
    "                                  name=\"Population\",labels=c(\"African\",\"East Asian\",\"European\",\"Latino\",\"South Asian\")) + \n",
    "theme_base() + xlab(\"UMAP1\") + ylab(\"UMAP2\")\n",
    "\n",
    "g1k.umap.plt <- g1k.umap.plt + theme(legend.position=\"top\",\n",
    "                        plot.background=element_blank(),\n",
    "                        text = element_text(family = \"sans\"))\n",
    "g1k.umap.plt + scale_x_continuous(breaks = 0) + scale_y_continuous(breaks = 0)\n",
    "\n",
    "ggsave(filename = \"../figs/SF2b_G1K-UMAP.pdf\",height=8,width=9)"
   ]
  },
  {
   "cell_type": "markdown",
   "metadata": {},
   "source": [
    "## G-group diversity (SF3)"
   ]
  },
  {
   "cell_type": "code",
   "execution_count": null,
   "metadata": {},
   "outputs": [],
   "source": [
    "dat<-read.table(\"../data/Ggroups.txt.gz\",h=T,sep=\" \")\n",
    "dim(dat)\n",
    "dat[dat$ethnicity == \"missing\", ]$ethnicity <- \"AFR\"\n",
    "# summary of total ancestry \n",
    "table(dat$ethnicity)\n",
    "\n",
    "# Total number of G-group alleles within each ancestry\n",
    "ddply(dat,~ethnicity,summarise,count=length(unique(c(A1,A2,B1,B2,C1,C2,DQA11,DQA12,DQB11,DQB12,DRB11,DRB12))))\n",
    "#head(dat)"
   ]
  },
  {
   "cell_type": "code",
   "execution_count": null,
   "metadata": {},
   "outputs": [],
   "source": [
    "#creat frequency table\n",
    "\n",
    "create_table<-function(dat=JPN2,genes=c(\"A\",\"B\",\"C\",\"DQA1\",\"DQB1\",\"DRB1\", \"DPA1\",\"DPB1\")){\n",
    "    out<-NULL\n",
    "    for (gene in genes){\n",
    "        x<-subset(dat,select=c(paste(gene,\"1\",sep=\"\")))\n",
    "        y<-subset(dat,select=c(paste(gene,\"2\",sep=\"\")))\n",
    "        df<-na.omit(cbind(x,y))\n",
    "        frq<-data.frame(table(as.vector(unlist(df[,1:2]),mode='character'))/(nrow(dat)*2))\n",
    "        frq$Gene<-gene\n",
    "        out<-rbind(out,frq)\n",
    "    }\n",
    "    return(data.frame(out))\n",
    "}"
   ]
  },
  {
   "cell_type": "code",
   "execution_count": null,
   "metadata": {},
   "outputs": [],
   "source": [
    "all <- NULL\n",
    "frq <- create_table(dat=dat[dat$ethnicity==\"LAT\",])\n",
    "frq$Ethnicity<-\"LAT\"\n",
    "all<-rbind(all,frq)\n",
    "\n",
    "frq<-create_table(dat=dat[dat$ethnicity==\"EUR\",])\n",
    "frq$Ethnicity<-\"EUR\"\n",
    "all<-rbind(all,frq)\n",
    "\n",
    "frq<-create_table(dat=dat[dat$ethnicity==\"AFR\",])\n",
    "frq$Ethnicity<-\"AA\"\n",
    "all<-rbind(all,frq)\n",
    "\n",
    "frq<-create_table(dat=dat[dat$ethnicity==\"EAS\",])\n",
    "frq$Ethnicity<-\"EAS\"\n",
    "all<-rbind(all,frq)\n",
    "\n",
    "frq<-create_table(dat=dat[dat$ethnicity==\"SAS\",])\n",
    "frq$Ethnicity<-\"SAS\"\n",
    "all<-rbind(all,frq)\n",
    "\n",
    "#head(all)\n",
    "#define top most frequent alleles\n",
    "df2<-all %>% group_by(Gene,Ethnicity) %>% top_n(2, Freq) %>% arrange(Gene,Ethnicity,desc(Freq))\n",
    "others<-setDT(all[all$Var1 %in% df2$Var1,])[, .(Var1=\"others\",Freq=1-sum(Freq)), by= .(Gene, Ethnicity)] \n",
    "\n",
    "df3<-rbind(all[all$Var1 %in% df2$Var1,],others)\n",
    "count<-aggregate(df3$Var1, list(df3$Gene),unique)\n"
   ]
  },
  {
   "cell_type": "code",
   "execution_count": null,
   "metadata": {},
   "outputs": [],
   "source": [
    "Ggroup <- split(df3, f = df3$Gene)\n",
    "\n",
    "Ggroup$A$Label <- ifelse(Ggroup$A$Freq > 1e-2,as.character(Ggroup$A$Var1),\"\")\n",
    "\n",
    "p1 <- ggplot(Ggroup$A,aes(x=Ethnicity,y=Freq,fill=Var1))+geom_bar(stat='identity')+\n",
    "    facet_wrap(~Gene) + \n",
    "    geom_text(aes(label=Label), position=position_stack(vjust = 0.5), size = 3.5) + \n",
    "    scale_fill_manual(name=\"Allele\",values=c(cbPalette[1:5],\"lightgrey\")) + \n",
    "    ylab(\"\")+ xlab(\"\")\n",
    "\n",
    "\n",
    "Ggroup$B$Label <- ifelse(Ggroup$B$Freq > 1e-2,as.character(Ggroup$B$Var1),\"\")\n",
    "p2 <- ggplot(Ggroup$B,aes(x=Ethnicity,y=Freq,fill=Var1))+geom_bar(stat='identity')+\n",
    "    facet_wrap(~Gene) + \n",
    "    geom_text(aes(label=Label), position=position_stack(vjust = 0.5), size = 3.5) + \n",
    "    scale_fill_manual(name=\"Allele\",values=c(cbPalette[6:14],\"lightgrey\"))+\n",
    "     ylab(\"Allele frequency\") + xlab(\"\")\n",
    "\n",
    "Ggroup$C$Label <- ifelse(Ggroup$C$Freq > 1e-2,as.character(Ggroup$C$Var1),\"\")\n",
    "p3 <- ggplot(Ggroup$C,aes(x=Ethnicity,y=Freq,fill=Var1))+geom_bar(stat='identity')+\n",
    "    facet_wrap(~Gene) + \n",
    "    geom_text(aes(label=Label), position=position_stack(vjust = 0.5), size = 3.5) + \n",
    "    scale_fill_manual(name=\"Allele\",values=c(cbPalette[15:19],\"lightgrey\"))+ ylab(\"\")\n",
    "\n",
    "p <- grid.arrange(p1, p2,p3 ,ncol=1)\n",
    "p\n",
    "ggsave(p,filename = \"../figs/SF3_G-group_classI_freq.pdf\",width=8,height=11)\n"
   ]
  },
  {
   "cell_type": "code",
   "execution_count": null,
   "metadata": {},
   "outputs": [],
   "source": [
    "##  Class II\n",
    "Ggroup <- split(df3, f = df3$Gene)\n",
    "\n",
    "Ggroup$DQA1$Var1 <- ifelse(Ggroup$DQA1$Var1==\"DQA1*02:01\",\"DQA1*02:01:01G\",as.character(Ggroup$DQA1$Var1))\n",
    "Ggroup$DQA1$Label <- ifelse(Ggroup$DQA1$Freq > 1e-2,as.character(Ggroup$DQA1$Var1),\"\")\n",
    "p1 <- ggplot(Ggroup$DQA1,aes(x=Ethnicity,y=Freq,fill=Var1))+geom_bar(stat='identity')+\n",
    "    facet_wrap(~Gene) + \n",
    "    geom_text(aes(label=Label), position=position_stack(vjust = 0.5), size = 3.5) + \n",
    "    scale_fill_manual(name=\"Allele\",values=c(cbPalette[1:5],\"lightgrey\")) + \n",
    "    ylab(\"\")+ xlab(\"\")\n",
    "\n",
    "\n",
    "Ggroup$DQB1$Label <- ifelse(Ggroup$DQB1$Freq > 1e-2,as.character(Ggroup$DQB1$Var1),\"\")\n",
    "p2 <- ggplot(Ggroup$DQB1,aes(x=Ethnicity,y=Freq,fill=Var1))+geom_bar(stat='identity')+\n",
    "    facet_wrap(~Gene) + \n",
    "    geom_text(aes(label=Label), position=position_stack(vjust = 0.5), size = 3.5) + \n",
    "    scale_fill_manual(name=\"Allele\",values=c(cbPalette[6:11],\"lightgrey\"))+\n",
    "     ylab(\"\") + xlab(\"\")\n",
    "\n",
    "Ggroup$DRB1$Label <- ifelse(Ggroup$DRB1$Freq > 1e-2,as.character(Ggroup$DRB1$Var1),\"\")\n",
    "p3 <- ggplot(Ggroup$DRB1,aes(x=Ethnicity,y=Freq,fill=Var1))+geom_bar(stat='identity')+\n",
    "    facet_wrap(~Gene) + xlab(\"\")+\n",
    "    geom_text(aes(label=Label), position=position_stack(vjust = 0.5), size = 3.5) + \n",
    "    scale_fill_manual(name=\"Allele\",values=c(cbPalette[6:13],\"lightgrey\"))+ ylab(\"Allele frequency\")\n",
    "\n",
    "Ggroup$DPA1$Label <- ifelse(Ggroup$DPA1$Freq > 1e-2,as.character(Ggroup$DPA1$Var1),\"\")\n",
    "p4 <- ggplot(Ggroup$DPA1,aes(x=Ethnicity,y=Freq,fill=Var1))+geom_bar(stat='identity')+\n",
    "    facet_wrap(~Gene) + \n",
    "    geom_text(aes(label=Label), position=position_stack(vjust = 0.5), size = 3.5) + \n",
    "    scale_fill_manual(name=\"Allele\",values=c(cbPalette[1:3],\"lightgrey\"))+ ylab(\"\") + xlab(\"\")\n",
    "Ggroup$DPB1$Label <- ifelse(Ggroup$DPB1$Freq > 1e-2,as.character(Ggroup$DPB1$Var1),\"\")\n",
    "p5 <- ggplot(Ggroup$DPB1,aes(x=Ethnicity,y=Freq,fill=Var1))+geom_bar(stat='identity')+\n",
    "    facet_wrap(~Gene) + \n",
    "    geom_text(aes(label=Label), position=position_stack(vjust = 0.5), size = 3.5) + \n",
    "    scale_fill_manual(name=\"Allele\",values=c(cbPalette[1:5],\"lightgrey\"))+ ylab(\"\")\n",
    "\n",
    "    \n",
    "p <- grid.arrange(p1, p2,p3,p4 ,p5,ncol=1)\n",
    "p\n",
    "ggsave(p,filename = \"../figs/SF3_G-group_classII_freq.pdf\",width=12,height=16)\n"
   ]
  },
  {
   "cell_type": "markdown",
   "metadata": {
    "toc-hr-collapsed": true,
    "toc-nb-collapsed": true
   },
   "source": [
    "## Heterogeneity of observed common G-group alleles (SF4)"
   ]
  },
  {
   "cell_type": "code",
   "execution_count": null,
   "metadata": {},
   "outputs": [],
   "source": [
    "allele.summary <- read.table(\"../data/Ggroup_allele_summary.txt.gz\",h=T,stringsAsFactors = F)\n",
    "allele.summary$Gene <- sapply(strsplit(allele.summary[,1], \"\\\\*\"), \"[[\", 1)\n",
    "\n",
    "# alleles show significant difference among population groups (stratified by frequency)\n",
    "\n",
    "n <- nrow(allele.summary[allele.summary$Freq >= 0.005,])\n",
    "\n",
    "allele.summary$label <- ifelse(allele.summary$Pval>=0.05/n,allele.summary$Allele,\"\")\n",
    "allele.summary[allele.summary$Allele==\"B*53:01:01G\",]$label <- \"B*53:01:01G\"\n",
    "# to make all <10^-300 points to be 300 for plotting\n",
    "allele.summary$P <- ifelse(-log10(allele.summary$Pval)>=300, 1e-300, allele.summary$Pval)\n"
   ]
  },
  {
   "cell_type": "markdown",
   "metadata": {},
   "source": [
    "###  the log10(frequency) of all G-group alleles (SF4a)"
   ]
  },
  {
   "cell_type": "code",
   "execution_count": null,
   "metadata": {},
   "outputs": [],
   "source": [
    "allele.summary[is.na(allele.summary)] <- 0\n",
    "df <- allele.summary %>% rowwise() %>% mutate(maxFreq=max(EURfreq,AAfreq,LATfreq,SASfreq,EASfreq)) %>%\n",
    "    mutate(diffFreq = maxFreq/Freq)\n",
    "\n",
    "\n",
    "df$label <- ifelse(df$diffFreq>3,df$Allele,\"\")\n",
    "df[df$Allele==\"B*53:01:01G\",]$label <- \"B*53:01:01G\"\n",
    "\n",
    "p <- ggplot(df %>% filter(Freq>0.01),aes(log10(Freq),diffFreq, color = Gene,\n",
    "                                                     label=label))+geom_point() + theme_base()  \n",
    "\n",
    "p <- p + scale_x_continuous(name = \"log10(Frequency)\",breaks=c(-2, -1, 0),\n",
    "                       labels=c(expression(10^-2),expression(10^-1),expression(10^0)),\n",
    "                            limits = c(-2,0))\n",
    "\n",
    "p <- p + theme(plot.background=element_blank(),\n",
    "                        text = element_text(size=20, family = \"sans\")) +\n",
    " scale_y_continuous(name = \"maximum(Freq)/mean(Freq)\") \n",
    "\n",
    "\n",
    "p + scale_colour_calc(name=\"HLA gene\") + geom_text_repel(segment.size  = .5,nudge_x = 0.3,\n",
    "                                                         size=5, show.legend = FALSE) \n",
    "\n",
    "ggsave(\"../figs/SF4a_Ggroup_maxvsmeanfreq_by_freq.pdf\",width=10,height=7)"
   ]
  },
  {
   "cell_type": "markdown",
   "metadata": {},
   "source": [
    "### the -log10(P-value) of chi-square statistics obtained from a 3x5  contingency table (SF4b)"
   ]
  },
  {
   "cell_type": "code",
   "execution_count": null,
   "metadata": {},
   "outputs": [],
   "source": [
    "p <- ggplot(df %>% filter(Freq>0.01),aes(-log10(P),diffFreq, color = Gene,\n",
    "                                                     label=label))+geom_point() + theme_base()  \n",
    "\n",
    "\n",
    "p <- p + theme(plot.background=element_blank(),\n",
    "                        text = element_text(size=20, family = \"sans\")) +\n",
    " scale_y_continuous(name = \"maximum(Freq)/mean(Freq)\") +\n",
    " scale_x_continuous(name = \"-log10(P-value)\",breaks=c(0,100,200,301),labels = c(0,100,200,\">300\")) \n",
    "\n",
    "\n",
    "\n",
    "p + scale_colour_calc(name=\"HLA gene\") + geom_text_repel(segment.size  = .5, nudge_x = -45,\n",
    "                                                         size=5,show.legend = FALSE) \n",
    "\n",
    "ggsave(\"../figs/SF4b_Ggroup_maxvsmeanfreq_by_pval.pdf\",width=10,height=7)\n"
   ]
  },
  {
   "cell_type": "markdown",
   "metadata": {},
   "source": [
    "## Number of observed G-group alleles (SF5)"
   ]
  },
  {
   "cell_type": "code",
   "execution_count": null,
   "metadata": {},
   "outputs": [],
   "source": [
    "n <- 21546 # totoal number of individuals\n",
    "\n",
    "freq.bin <- c(0,1/n/2,1/n,0.005,0.01,1)\n",
    "\n",
    "x <- allele.summary %>%\n",
    "  group_by(group = cut(Freq, breaks = freq.bin))\n",
    "dim(allele.summary)\n",
    "\n",
    "count.df <- x %>% group_by(group,Gene) %>% count(group)\n",
    "\n",
    "p <- ggplot(count.df,aes(x=group, y=n, fill=Gene)) + geom_bar(stat='identity') +\n",
    "    theme_bw() + xlab(\"\") + ylab(\"Count\")\n",
    "\n",
    "p +  scale_x_discrete(labels=c(\"singleton\", \"doubleton\",\n",
    "                               \"doubleton-0.5%\",\"0.5%-1%\",\">1%\")) +\n",
    "    theme(text = element_text(size=20, family = \"sans\")) +  scale_fill_manual(values = gene_colors)\n",
    "\n",
    "ggsave('../figs/SF6_Ggroup_freq_count.pdf',width=10,height=7)\n"
   ]
  },
  {
   "cell_type": "markdown",
   "metadata": {},
   "source": [
    "## Overall G-group diversity in eight HLA genes (SF6)"
   ]
  },
  {
   "cell_type": "code",
   "execution_count": null,
   "metadata": {},
   "outputs": [],
   "source": [
    "Ggroup<-read.table(\"../data/Ggroups.txt.gz\",h=T,sep=\" \")\n",
    "Ggroup[Ggroup$ethnicity == \"missing\", ]$ethnicity <- \"AFR\"\n",
    "Ggroup$ethnicity <- factor(Ggroup$ethnicity)\n",
    "\n",
    "all <- create_table(dat=Ggroup[!is.na(Ggroup$ethnicity),])\n",
    "\n",
    "#define top most frequent alleles\n",
    "n <- 5\n",
    "df2 <- all %>% group_by(Gene) %>% top_n(n, Freq) %>% arrange(Gene,desc(Freq))\n",
    "others <- setDT(all[all$Var1 %in% df2$Var1,])[, .(Var1=\"others\",Freq=1-sum(Freq)), by= .(Gene)] %>% arrange(Gene,desc(Freq))\n",
    "others$order <- n+1\n",
    "\n",
    "df3 <- df2 %>% group_by(Gene) %>% arrange(Gene,desc(Freq))\n",
    "df3$order <- rep(c(1:n),8)\n",
    "\n",
    "\n",
    "df4 <- rbind(data.frame(df3),data.frame(others[,names(df3)]))\n",
    "\n",
    "freq.plt <- ggplot(df4,aes(x=Gene,y=Freq,fill=as.factor(order)))+geom_bar(stat='identity')+scale_y_continuous(label=percent)+\n",
    "    geom_text(aes(label=Var1), position=position_stack(vjust = 0.5), size=3)\n",
    "freq.plt <- freq.plt + theme_base()+theme(legend.position = \"none\" ) + scale_fill_manual(values=c(brewer.pal(5,\"Paired\"),\"grey\"))\n",
    "\n",
    "options(repr.plot.width = 10, repr.plot.height = 9)\n",
    "\n",
    "\n",
    "freq.plt <- freq.plt + xlab(\"\") + ylab(\"Allele frequency\")\n",
    "\n",
    "freq.plt  <- freq.plt +  theme(legend.position=\"none\",\n",
    "                        plot.background=element_blank(),\n",
    "                        text = element_text(family = \"sans\"))\n",
    "freq.plt\n",
    "ggsave(filename = \"../figs/SF6-freq.pdf\",width=10,height=7)"
   ]
  },
  {
   "cell_type": "markdown",
   "metadata": {},
   "source": [
    "## Pairwise LD measurement index (SF7)"
   ]
  },
  {
   "cell_type": "code",
   "execution_count": null,
   "metadata": {},
   "outputs": [],
   "source": [
    "epsilon <- NULL\n",
    "pop <- \"AA\"\n",
    "    M<-read.table(paste(\"../data/\",pop,\"_eps.txt\",sep=\"\"),h=T,stringsAsFactors = F)\n",
    "    for (i in 1:7){\n",
    "        epsilon <- c(epsilon, M[i+1,i])\n",
    "    }\n",
    "    epsilon <- as.data.frame(epsilon)\n",
    "    epsilon$gene <- c(\"A-C\",\"C-B\",\"B-DRB1\",\"DRB1-DQA1\",\"DQA1-DQB1\",\"DQB1-DPA1\",\"DPA1-DPB1\")\n",
    "\n",
    "    names(epsilon)[1] <- pop\n",
    "\n",
    "for (pop in c(\"EAS\",\"EUR\",\"LAT\",\"SAS\")){\n",
    "    M<-read.table(paste(\"../data/\",pop,\"_eps.txt\",sep=\"\"),h=T,stringsAsFactors = F)\n",
    "    X<- NULL\n",
    "    for (i in 1:7){\n",
    "        X <- c(X, M[i+1,i])\n",
    "    }\n",
    "    epsilon <- cbind(X, epsilon)\n",
    "\n",
    "    names(epsilon)[1] <- pop\n",
    "}\n",
    "\n",
    "df.plt <- epsilon %>% gather(variable, value, -gene)\n",
    "df.plt$gene <- factor(df.plt$gene, levels=c(\"A-C\",\"C-B\",\"B-DRB1\",\"DRB1-DQA1\",\"DQA1-DQB1\",\"DQB1-DPA1\",\"DPA1-DPB1\"))\n",
    "p <- ggplot(df.plt,aes(x=gene,y=value,fill=variable)) + geom_bar(stat = \"identity\", position=position_dodge())\n",
    "\n",
    "p <- p + xlab(\"\")+ylab(expression(epsilon)) + \n",
    "scale_fill_manual(\"Population\",labels = pop_labels, values = pop_colors)\n",
    "\n",
    "p + theme(axis.text.x=element_text(angle=45, hjust=1),legend.position=\"top\")\n",
    "ggsave(\"../figs/SF7_epsilon_pairs.pdf\",width=10,height=7)\n"
   ]
  },
  {
   "cell_type": "markdown",
   "metadata": {},
   "source": [
    "## MESA PCA (SF13)"
   ]
  },
  {
   "cell_type": "code",
   "execution_count": null,
   "metadata": {},
   "outputs": [],
   "source": [
    "yy<-read.table(\"../data/MESA.predpc\",h=F,stringsAsFactors = F)\n",
    "df <- data.frame(yy)\n",
    "eigenval<-scan(\"../data/MESA.eigenval\",as.numeric())\n",
    "val<-eigenval/sum(eigenval)*100"
   ]
  },
  {
   "cell_type": "code",
   "execution_count": null,
   "metadata": {},
   "outputs": [],
   "source": [
    "# classify ancestry based on projected PCs:\n",
    "df$Ethnicity <- NA\n",
    "df[df$V5 > 0.057,]$Ethnicity <- \"European\"\n",
    "df[df$V4 > 0.028,]$Ethnicity <- \"Asian\"\n",
    "#df[(df$V4 < 0.002 ) ,]$Ethnicity<-\"African American\"\n",
    "df[df$V4>0.002 & df$V4< 0.028 & df$V5< 0.057,]$Ethnicity<-\"Latino\"\n",
    "df[is.na(df$Ethnicity),]$Ethnicity <- \"African American\"\n",
    "#re-classifying some other points\n",
    "df[df$Ethnicity==\"African American\" & df$V6<0.4 & df$V5 <0.025,]$Ethnicity <- \"Latino\"\n",
    "#df[df$Ethnicity==\"African American\" & df$V5 < 0.0 & df$V4 > -0.04,]$Ethnicity <- \"Latino\"\n",
    "df[df$Ethnicity==\"African American\" & df$V4 > 0.0 & df$V5 < 0.03,]$Ethnicity <- \"Latino\"\n",
    "df[df$Ethnicity==\"Latino\" & df$V4 < -0.005 & df$V5 > -0.001,]$Ethnicity <- \"African American\"\n"
   ]
  },
  {
   "cell_type": "code",
   "execution_count": null,
   "metadata": {},
   "outputs": [],
   "source": [
    "mesaPCs <- ggplot(na.omit(df),aes(x=V4,y=V5,colour=Ethnicity))+geom_point(size=2)+\n",
    "  xlab(paste(\"PC1 (\",round(val[1],2),\"%)\"))+ylab(paste(\"PC2 (\",round(val[2],2),\"%)\"))+\n",
    "  scale_color_manual(values=pop_colors,\n",
    "                     labels=pop_labels)\n",
    "mesaPCs <- mesaPCs + theme(legend.position=\"top\",\n",
    "                        plot.background=element_blank(),\n",
    "                        text = element_text(family = \"sans\")) \n",
    "\n",
    "mesaPCs + scale_x_continuous(breaks = 0) + scale_y_continuous(breaks = 0)\n",
    "ggsave(\"../figs/SF13_MESA-PCA.pdf\", height = 8, width = 8)"
   ]
  },
  {
   "cell_type": "markdown",
   "metadata": {},
   "source": [
    "## MHC selection (SF14)"
   ]
  },
  {
   "cell_type": "code",
   "execution_count": null,
   "metadata": {},
   "outputs": [],
   "source": [
    "admix = read.table(\"../data/g1k-mesa-prunedALL.4.Q\")\n",
    "fam = read.table(\"../data/g1k-mesa-prunedALL.fam\")\n",
    "g1k_label =read.table(\"../data/integrated_call_samples_v3.20130502.ALL.panel\",header=T,stringsAsFactors = F)\n",
    "fam$superpop = g1k_label[match(fam$V1, g1k_label$sample),\"super_pop\"]\n",
    "\n",
    "# load inferred MESA info\n",
    "MESA_AA.sample = read.table(\"../data/MESA_AA_samples.txt\",stringsAsFactors = F)\n",
    "MESA_AMR.sample = read.table(\"../data/MESA_Latino_samples.txt\", stringsAsFactors = F)\n",
    "\n",
    "fam$superpop[fam$V1 %in% MESA_AA.sample$V1] =\"MESA_AA\"\n",
    "fam$superpop[fam$V1 %in% MESA_AMR.sample$V1] =\"MESA_AMR\"\n"
   ]
  },
  {
   "cell_type": "code",
   "execution_count": null,
   "metadata": {},
   "outputs": [],
   "source": [
    "# For Admixed Africans (AA), column 2 is EUR, column 1 is NAT, column 3 is AFR \n",
    "MESA_AA_AFR_global_mean = 2*mean(admix[fam$superpop==\"MESA_AA\",3],na.rm = TRUE)\n",
    "MESA_AA_AFR_global_sd = 2*sd(admix[fam$superpop==\"MESA_AA\",3],na.rm = TRUE) \n",
    "MESA_AA_EUR_global_mean = 2*mean(admix[fam$superpop==\"MESA_AA\",2],na.rm = TRUE)\n",
    "MESA_AA_EUR_global_sd = 2*sd(admix[fam$superpop==\"MESA_AA\",2],na.rm = TRUE)\n",
    "\n"
   ]
  },
  {
   "cell_type": "code",
   "execution_count": null,
   "metadata": {},
   "outputs": [],
   "source": [
    "# For Latinos (AMR), column 2 is EUR, column 1 is NAT, column 3 is AFR \n",
    "MESA_AMR_AFR_global_mean = 2*mean(admix[fam$superpop==\"MESA_AMR\",3],na.rm = TRUE)\n",
    "MESA_AMR_AFR_global_sd = 2*sd(admix[fam$superpop==\"MESA_AMR\",3],na.rm = TRUE) \n",
    "MESA_AMR_EUR_global_mean = 2*mean(admix[fam$superpop==\"MESA_AMR\",2],na.rm = TRUE)\n",
    "MESA_AMR_EUR_global_sd = 2*sd(admix[fam$superpop==\"MESA_AMR\",2],na.rm = TRUE)\n"
   ]
  },
  {
   "cell_type": "markdown",
   "metadata": {},
   "source": [
    "### selection in AA (SF14a)"
   ]
  },
  {
   "cell_type": "code",
   "execution_count": null,
   "metadata": {},
   "outputs": [],
   "source": [
    "##rfmix AA \n",
    "AA_dose= read.table(\"../data/MESA_AA_subset_rfmix.dose.gz\",h=T)\n",
    "colnames(AA_dose)=c(\"chromosome\",\"physical_position\",\"genetic_position\",\"genetic_marker_index\",\"AFR\",\"EUR\")\n",
    "AA_dose_mean =mean(AA_dose$AFR)\n",
    "AA_dose_sd = sd(AA_dose$AFR)"
   ]
  },
  {
   "cell_type": "code",
   "execution_count": null,
   "metadata": {},
   "outputs": [],
   "source": [
    "#elai AA\n",
    "AA_elai =read.table(\"../data/MESA_AA_new_0402.ps21.txt.gz\")\n",
    "AA_snp = read.table(\"../data/MESA_AA_new_0402.snpinfo.txt\",header=T)\n",
    "AA_elai_AFR = colMeans(AA_elai[, seq(2,127946,2)])\n",
    "AA_elai_mean = mean(AA_elai_AFR)"
   ]
  },
  {
   "cell_type": "code",
   "execution_count": null,
   "metadata": {},
   "outputs": [],
   "source": [
    "rfmix.plt <- AA_dose\n",
    "rfmix.plt$average <- scale(AA_dose$AFR) + AA_dose_mean - MESA_AA_AFR_global_mean\n",
    "\n",
    "rfmix.plt %>%  filter(physical_position>=28*1e6 & physical_position <= 34*1e6) %>% \n",
    "  select(average) %>% colMeans()\n",
    "\n",
    "elai.plt <- cbind(AA_snp,average=scale(AA_elai_AFR)+ AA_elai_mean - MESA_AA_AFR_global_mean)\n",
    "elai.plt %>%  filter(pos>=28*1e6 & pos <= 34*1e6) %>% \n",
    "  select(average) %>% summarise(mean.average = mean(average,na.rm=T),\n",
    "                                sd.average = sd(average,na.rm=T),\n",
    "                                n.average = n()) %>%\n",
    "              mutate(se.average = sd.average / sqrt(n.average),\n",
    "                     lower.ci.average = mean.average - qt(1-(0.05/2),n.average -1)* se.average,\n",
    "                     uppper.ci.average = mean.average + qt(1-(0.05/2),n.average -1)* se.average)\n"
   ]
  },
  {
   "cell_type": "code",
   "execution_count": null,
   "metadata": {},
   "outputs": [],
   "source": [
    "# outside MHC\n",
    "df<- cbind(AA_snp,AA_elai_AFR)\n",
    "x <- df %>%  filter(pos<28*1e6 |pos > 34*1e6) %>% \n",
    "  select(AA_elai_AFR) \n",
    "mean(as.vector(unlist(x)))/2\n",
    "\n",
    "# inside MHC\n",
    "x <- df %>%  filter(pos>=28*1e6 &pos <= 34*1e6) %>% \n",
    "  select(AA_elai_AFR) \n",
    "mean(as.vector(unlist(x)))/2"
   ]
  },
  {
   "cell_type": "code",
   "execution_count": null,
   "metadata": {},
   "outputs": [],
   "source": [
    "ggplot()+ geom_line(data=rfmix.plt, aes(x=physical_position/1e6, y=scale(average), color=\"rfmix\" ))+\n",
    "  geom_line(data= AA_snp, aes(x=pos[pos>1e5]/1e6, y=scale(AA_elai_AFR)+ AA_elai_mean - MESA_AA_AFR_global_mean, color=\"ELAI\"))+\n",
    "  geom_hline(yintercept = 4.42 , color=\"black\", linetype=\"dashed\")+\n",
    "  geom_hline(yintercept = - 4.42 , color=\"black\", linetype=\"dashed\")+\n",
    "#  geom_hline(yintercept = 0 , color=\"black\", linetype=\"dashed\")+\n",
    "  annotate(\"rect\", xmin=28000000/1e6, xmax=34000000/1e6, ymin=-5, ymax=5, alpha=0.2, fill=\"red\") +\n",
    "  ylab(\"Delta African ancestry\") + theme_bw() + xlab(\"Chromosome 6 positions (Mb)\")+\n",
    "  scale_color_manual(name=\"Method\",labels=c(\"ELAI\",\"RFMIX\"),values=c(\"#268bd2\", \"#cb4b16\"))+\n",
    "  theme(legend.position = \"top\")\n",
    "\n",
    "ggsave(\"../figs/SF14a_MESA-AA-selection.pdf\", height = 8, width = 12)"
   ]
  },
  {
   "cell_type": "markdown",
   "metadata": {},
   "source": [
    "### selection in Latios (SF14b)"
   ]
  },
  {
   "cell_type": "code",
   "execution_count": null,
   "metadata": {},
   "outputs": [],
   "source": [
    "##rfmix AMR\n",
    "AMR_dose= read.table(\"../data/MESA_AMR_subset_rfmix.dose.gz\",header=T)\n",
    "AMR_dose_mean =mean(AMR_dose$AFR)\n",
    "AMR_dose_sd = sd(AMR_dose$AFR)\n",
    "\n",
    "## elai AMR\n",
    "AMR_elai =read.table(\"../data/MESA_Latinos_3way_0402.ps21.txt.gz\")\n",
    "AMR_snp = read.table(\"../data/MESA_Latinos_3way_0402.snpinfo.txt\",header=T)\n",
    "AMR_elai_AFR = colMeans(AMR_elai[, seq(2,191994,3)])\n",
    "AMR_elai_mean = mean(AMR_elai_AFR)\n",
    "AMR_elai_sd = sd(AMR_elai_AFR)"
   ]
  },
  {
   "cell_type": "code",
   "execution_count": null,
   "metadata": {},
   "outputs": [],
   "source": [
    "elai.AMR.plt <- cbind(AMR_snp,average=scale(AMR_elai_AFR)+ AMR_elai_mean - MESA_AMR_AFR_global_mean)\n",
    "\n",
    "elai.AMR.plt %>%  filter(pos>=28*1e6 & pos <= 34*1e6) %>% \n",
    "  select(average) %>% summarise(mean.average = mean(average,na.rm=T),\n",
    "                                sd.average = sd(average,na.rm=T),\n",
    "                                n.average = n()) %>%\n",
    "  mutate(se.average = sd.average / sqrt(n.average),\n",
    "         lower.ci.average = mean.average - qt(1-(0.05/2),n.average -1)* se.average,\n",
    "         uppper.ci.average = mean.average + qt(1-(0.05/2),n.average -1)* se.average)\n",
    "\n",
    "\n",
    "# outside MHC\n",
    "df<- cbind(AMR_snp,AMR_elai_AFR)\n",
    "x <- df %>%  filter(pos<28*1e6 |pos > 34*1e6) %>% \n",
    "  select(AMR_elai_AFR) \n",
    "mean(as.vector(unlist(x)))/2\n",
    "\n",
    "# inside MHC\n",
    "x <- df %>%  filter(pos>=28*1e6 &pos <= 34*1e6) %>% \n",
    "  select(AMR_elai_AFR) \n",
    "mean(as.vector(unlist(x)))/2\n",
    "\n",
    "\n"
   ]
  },
  {
   "cell_type": "code",
   "execution_count": null,
   "metadata": {},
   "outputs": [],
   "source": [
    "ggplot()+ geom_line(data=AMR_dose, aes(x=physical_position/1e6,scale(AFR), color=\"rfmix\" ))+\n",
    "  geom_line(data= AMR_snp, aes(x=pos[pos>1e5]/1e6, y=scale(AMR_elai_AFR), color=\"ELAI\"))+\n",
    "  geom_hline(yintercept = 4.42 , color=\"black\", linetype=\"dashed\")+\n",
    "  geom_hline(yintercept = - 4.42 , color=\"black\", linetype=\"dashed\")+\n",
    "  #  geom_hline(yintercept = 0 , color=\"black\", linetype=\"dashed\")+\n",
    "  annotate(\"rect\", xmin=28000000/1e6, xmax=34000000/1e6, ymin=-5, ymax=6, alpha=0.2, fill=\"red\") +\n",
    "  ylab(\"Delta African ancestry\") + theme_bw() + xlab(\"Chromosome 6 positions (Mb)\")+\n",
    "  scale_color_manual(name=\"Method\",labels=c(\"ELAI\",\"RFMIX\"),values=c(\"#268bd2\", \"#cb4b16\")) + \n",
    "  theme(legend.position = \"top\")\n",
    "\n",
    "ggsave(\"../figs/SF14b_MESA-LAT-selection.pdf\", height = 8, width = 12)"
   ]
  },
  {
   "cell_type": "markdown",
   "metadata": {},
   "source": [
    "## GAP PCA (SF15)"
   ]
  },
  {
   "cell_type": "code",
   "execution_count": null,
   "metadata": {},
   "outputs": [],
   "source": [
    "gap.pc <- data.frame(read.table(\"../data/GAPPCs.eigenvec\", header = F, stringsAsFactors = F))\n",
    "\n",
    "sampleInfo <- read.table(\"../data/g1k_samples.txt\",header = T, stringsAsFactors = F )\n",
    "\n",
    "gap.pc$Ethnicity <- sampleInfo[match(gap.pc$V2,sampleInfo$sample),]$super_pop\n",
    "gap.pc[is.na(gap.pc$Ethnicity),]$Ethnicity <- \"zgap\"\n",
    "\n",
    "selectedGAP <- scan(\"../data/gap_validation_samples.txt\",as.character())\n",
    "\n",
    "gap.pc$selected <- ifelse(gap.pc$V2 %in% selectedGAP,1,0)\n",
    "\n",
    "gap.pc[gap.pc$selected==1,]$Ethnicity <- \"zgap_picked\"\n",
    "sum(gap.pc$selected)\n",
    "\n",
    "table(gap.pc$Ethnicity)\n",
    "pop_labels\n",
    "gap.pc$Ethnicity <- factor(gap.pc$Ethnicity, levels = c(\"AFR\",\"EAS\",\"EUR\",\"AMR\",\"SAS\",\"zgap\",\"zgap_picked\"))"
   ]
  },
  {
   "cell_type": "code",
   "execution_count": null,
   "metadata": {},
   "outputs": [],
   "source": [
    "GAP.pc.plt <- ggplot(gap.pc%>% filter(Ethnicity != \"zgap\" & selected !=1),aes(x=V3,y=V4,color=Ethnicity))+\n",
    "  geom_point()+xlab(\"PC1\")+ylab(\"PC2\") \n",
    "GAP.pc.plt\n",
    "pop_labels\n",
    "GAP.pc.plt <- GAP.pc.plt +\n",
    "  scale_color_manual(name = \"\",values=c(pop_colors),\n",
    "                     labels=c(pop_labels))\n",
    "GAP.pc.plt <- GAP.pc.plt + theme(legend.position=\"top\", \n",
    "                        plot.background=element_blank(),\n",
    "                        text = element_text(family = \"sans\")) \n",
    "\n",
    "gap.pc12 <- GAP.pc.plt + scale_x_continuous(breaks = 0) + scale_y_continuous(breaks = 0)\n",
    "gap.pc12+ guides(color = guide_legend(override.aes = list(size = 5)))\n",
    "\n",
    "ggsave(\"~/presentations/jobs//g1k_pcs.pdf\",width=9,height=9)\n",
    "\n",
    "\n",
    "dfplt$ancestry <- sampleInfo[match(row.names(ibd),sampleInfo$sample),]$super_pop\n",
    "\n",
    "dfplt[dfplt$ancestry==\"AMR\",]$ancestry <- \"LAT\"\n",
    "g1k.pc.plt <- ggplot(dfplt,aes(V1,V2,colour=ancestry))+geom_point()\n",
    "g1k.pc.plt <- g1k.pc.plt + scale_color_manual(values = pop_colors,\n",
    "                                              name=\"\",labels=c(pop_labels)) + \n",
    "    xlab(\"PC1\")+ylab(\"PC2\")\n",
    "\n",
    "\n",
    "g1k.pc.plt <- g1k.pc.plt + theme(legend.position=\"top\",\n",
    "                        plot.background=element_blank(),\n",
    "                        text = element_text(family = \"sans\")) \n",
    "\n",
    "g1k.pc.plt + scale_x_continuous(breaks = 0) + scale_y_continuous(breaks = 0)+ guides(color = guide_legend(override.aes = list(size = 5)))\n",
    "ggsave(\"~/presentations/jobs//g1k_mhc_pcs.pdf\",width=9,height=9)\n"
   ]
  },
  {
   "cell_type": "code",
   "execution_count": null,
   "metadata": {},
   "outputs": [],
   "source": [
    "GAP.pc.plt <- ggplot(gap.pc,aes(x=V3,y=V4,color=Ethnicity))+\n",
    "    geom_point(data = gap.pc %>% filter(Ethnicity != \"zgap\"),  alpha = 0.6)+\n",
    "    geom_point(data = gap.pc %>% filter(Ethnicity == \"zgap\"),  alpha = 0.4) +\n",
    "    geom_point(data = gap.pc %>% filter(selected == 1),  alpha = 1, color=\"red\") +\n",
    "  xlab(\"PC1\")+ylab(\"PC2\") \n",
    "\n",
    "GAP.pc.plt <- GAP.pc.plt +\n",
    "  scale_color_manual(name = \"\",values=c(pop_colors[c(1,4,2,3,5)],\"pink\",\"red\"),\n",
    "                     labels=c(pop_labels[c(1,4,2,3,5)],\"GAP GWAS\", \"Selected GAP samples\"))\n",
    "GAP.pc.plt <- GAP.pc.plt + theme(legend.position=\"top\",\n",
    "                        plot.background=element_blank(),\n",
    "                        text = element_text(family = \"sans\")) \n",
    "\n",
    "gap.pc12 <- GAP.pc.plt + scale_x_continuous(breaks = 0) + scale_y_continuous(breaks = 0)\n",
    "\n",
    "GAP.pc.plt <- ggplot(gap.pc,aes(x=V3,y=V5,color=Ethnicity))+\n",
    "    geom_point(data = gap.pc %>% filter(Ethnicity != \"zgap\"),  alpha = 0.6)+\n",
    "    geom_point(data = gap.pc %>% filter(Ethnicity == \"zgap\"),  alpha = 0.4) +\n",
    "    geom_point(data = gap.pc %>% filter(selected == 1),  alpha = 1, color=\"red\") +\n",
    "  xlab(\"PC1\")+ylab(\"PC3\") +\n",
    "  scale_color_manual(name = \"\",values=c(pop_colors[c(1,4,2,3,5)],\"pink\",\"red\"),\n",
    "                     labels=c(pop_labels[c(1,4,2,3,5)],\"GAP GWAS\", \"Selected GAP samples\"))\n",
    "GAP.pc.plt <- GAP.pc.plt + theme(legend.position=\"top\",\n",
    "                        plot.background=element_blank(),\n",
    "                        text = element_text(family = \"sans\")) \n",
    "\n",
    "gap.pc13 <- GAP.pc.plt + scale_x_continuous(breaks = 0) + scale_y_continuous(breaks = 0)\n",
    "\n",
    "g_legend<-function(a.gplot){\n",
    "  tmp <- ggplot_gtable(ggplot_build(a.gplot))\n",
    "  leg <- which(sapply(tmp$grobs, function(x) x$name) == \"guide-box\")\n",
    "  legend <- tmp$grobs[[leg]]\n",
    "  return(legend)}\n",
    "\n",
    "mylegend<-g_legend(gap.pc12)\n",
    "\n",
    "prow <- plot_grid( gap.pc12 + theme(legend.position=\"none\"),\n",
    "           gap.pc13 + theme(legend.position=\"none\"),\n",
    "           align = 'vh',\n",
    "           labels = c(\"(a)\", \"(b)\"),\n",
    "           hjust = -1,\n",
    "           nrow = 1\n",
    "           )\n",
    "pdf(\"../figs/SF15_GAP-PCA.pdf\", height = 7, width = 10)\n",
    "\n",
    "    \n",
    "p <- plot_grid( mylegend, prow,  ncol = 1, rel_heights = c( .2,1))\n",
    "p\n",
    "dev.off()"
   ]
  },
  {
   "cell_type": "markdown",
   "metadata": {},
   "source": [
    "## GaP imputation accuracy (SF16)"
   ]
  },
  {
   "cell_type": "markdown",
   "metadata": {},
   "source": [
    "## HIV imputation dosage r2 (SF17)"
   ]
  },
  {
   "cell_type": "code",
   "execution_count": null,
   "metadata": {},
   "outputs": [],
   "source": [
    "r2 <- read.table(\"../data/r2_summary.txt.gz\",h=T,stringsAsFactors = F, comment.char = \"#\")\n",
    "\n",
    "hiv <- r2 %>% select(allele,HIV_r2,HIV_freq) %>% na.omit()"
   ]
  },
  {
   "cell_type": "code",
   "execution_count": null,
   "metadata": {},
   "outputs": [],
   "source": [
    "# assign resolutions\n",
    "hiv$num <- unlist(sapply(hiv$allele,function(x) str_count(x, \":\")) )                   \n",
    "hiv$resolution <- NA\n",
    "\n",
    "hiv$resolution <- ifelse(hiv$num>=2,\"G-group\",hiv$resolution)\n",
    "hiv$resolution <- ifelse(hiv$num==1,\"two-field\",hiv$resolution)\n",
    "hiv$resolution <- ifelse(hiv$num==0,\"one-field\",hiv$resolution)\n"
   ]
  },
  {
   "cell_type": "code",
   "execution_count": null,
   "metadata": {},
   "outputs": [],
   "source": [
    "hiv$resolution <- factor(hiv$resolution, levels = c(\"one-field\",\"G-group\"))\n",
    "\n",
    "ggplot(hiv %>% filter(resolution!=\"G-group\"),aes(HIV_freq,HIV_r2,col=resolution)) + \n",
    "geom_point()  +\n",
    "xlim(0,0.5) + ylim(0,1) + \n",
    "    xlab(\"Typed HLA minor allele frequency\") + ylab(expression(\"Dosage\"~r^2)) +\n",
    "    scale_color_manual(values=c(\"red\",\"blue\"),\n",
    "                      labels = c(\"one-field\",\"G-group\")) +\n",
    "    theme(legend.position=c(0.8,0.3))\n",
    "\n",
    "#ggsave(,filename = \"../figs/Fig3b_dosage_r2.pdf\",width=6,height=6)\n"
   ]
  },
  {
   "cell_type": "code",
   "execution_count": null,
   "metadata": {},
   "outputs": [],
   "source": [
    "hiv %>% filter(resolution!=\"G-group\" & HIV_r2 <0.5)"
   ]
  },
  {
   "cell_type": "markdown",
   "metadata": {},
   "source": [
    "## Effect of 97Val (SF19)"
   ]
  },
  {
   "cell_type": "code",
   "execution_count": null,
   "metadata": {},
   "outputs": [],
   "source": [
    "eur <- read.table(\"..//data/EUR.raw\",h=T,stringsAsFactors = F)\n",
    "aa <- read.table(\"../data/AFR.raw\",h=T,stringsAsFactors = F)\n",
    "lat <- read.table(\"../data/LAT.raw\",h=T,stringsAsFactors = F)\n",
    "\n",
    "eur[,9] <- 2-eur[,9] # different minor allele for R\n",
    "names(eur)[9]<- names(aa)[9]\n",
    "df <- rbind(cbind(eur,pop=\"EUR\"),cbind(aa,pop=\"AA\"),cbind(lat,pop=\"LAT\"))\n",
    "\n",
    "plt.df <- df %>% select(colnames(df)[!grepl(\"HET\",colnames(df))]) %>% filter(PHENOTYPE!=-9) \n",
    "names(plt.df)[7:12]<-c(\"N\",\"R\",\"S\",\"T\",\"V\",\"W\")\n",
    "\n",
    "p <- ggplot(plt.df %>% select(\"PHENOTYPE\",\"V\",\"pop\"), aes(x=as.factor(V), y=PHENOTYPE)) +\n",
    "    ylab(\"HIV-1 viral load (log10(copies/ml), unadjusted)\") + xlab(\"Dosage of Val at position 97 of HLA-B\")+\n",
    "theme(legend.position=\"top\") \n",
    "\n",
    "p + stat_summary(fun.data = mean_cl_boot, geom = \"crossbar\", aes(width=0.3,colour = pop), size=1,position=position_dodge(0.5))\n",
    "p_point <- p + geom_point(position = position_dodge(.5),aes(color=pop))\n",
    "p_point <- p_point  + stat_summary(fun.data = mean_cl_boot, geom = \"crossbar\", aes(width=0.3,colour = pop), size=1,position=position_dodge(0.5)) + \n",
    "  stat_summary(fun.y = mean, geom = \"point\", aes(colour = pop),size=3,position=position_dodge(0.5))\n",
    "\n",
    "\n",
    "\n",
    "p_point <- p_point +  scale_colour_manual(values=pop_colors[c(3,1,4)],\n",
    "                          labels=pop_labels[c(3,1,4)],\n",
    "                    name = \"Population\")  \n",
    "\n",
    "p_point\n",
    "#ggsave(p_point, filename=\"../figs/SF19_97V_dosage.png\", height = 7, width = 8)\n"
   ]
  },
  {
   "cell_type": "markdown",
   "metadata": {},
   "source": [
    "## spVL of position 97 in HLA-B (SF20)"
   ]
  },
  {
   "cell_type": "code",
   "execution_count": null,
   "metadata": {},
   "outputs": [],
   "source": [
    "tidyData <- function(pop=\"eur\",haplo = read.table(\"../data/haplo.1.txt\",sep=\",\",h=F,stringsAsFactors = F )){\n",
    "  # read in data\n",
    "  fname <- paste(\"../data/\",pop,\".3.phased.gz\",sep=\"\")\n",
    "  x<-read.table(fname,h=F,stringsAsFactors = F)\n",
    "  sample <- scan(paste(\"../data/\",pop,\".header\",sep=\"\"),as.character())\n",
    "  phenoALL <- read.table(paste(\"../data/\",pop,\".pheno\",sep = \"\"),h=F,stringsAsFactors = F)\n",
    "  pheno <- phenoALL %>% filter(V1 %in% sample) %>% filter(V3!=-9)\n",
    "  plt.df <- NULL\n",
    "  for (i in c(1:nrow(haplo))){\n",
    "    geno <- t(x[x[,2] %in% haplo[i,],])\n",
    "    \n",
    "    resString <- unlist(strsplit(haplo[i,],\"_\"))[6]\n",
    "    #print(resString)\n",
    "    plt.df <- rbind(plt.df,data.frame(sample=pheno$V1,vl=pheno$V3,res=resString,\n",
    "                                      present=ifelse(pheno$V1 %in% sample[rowSums(geno == \"T\") == 1],1,0),\n",
    "                                      pop=pop)\n",
    "    )\n",
    "  }\n",
    "  return(plt.df)\n",
    "}"
   ]
  },
  {
   "cell_type": "code",
   "execution_count": null,
   "metadata": {},
   "outputs": [],
   "source": [
    "plt.df <- rbind(tidyData(pop=\"aa\"),\n",
    "                tidyData(pop=\"eur\"),\n",
    "                tidyData(pop=\"lat\"))"
   ]
  },
  {
   "cell_type": "code",
   "execution_count": null,
   "metadata": {},
   "outputs": [],
   "source": [
    "plt.df$pop <- factor(plt.df$pop,levels=c(\"eur\",\"aa\",\"lat\"))\n",
    "p <- ggplot(plt.df %>% filter(present==1), \n",
    "            aes(reorder(res,vl,FUN=median),y=vl)) \n",
    "\n",
    "p <- p  + stat_summary(fun.data = mean_cl_boot, geom = \"errorbar\", aes(width=0.3),colour = \"black\", size=1) + \n",
    "  stat_summary(fun.y = mean, geom = \"point\", colour = \"black\",size=2)\n",
    "\n",
    "# New facet label names for populations\n",
    "pop.labs <- c(\"Admixed African (3,901)\", \"European (7,445)\",\"Latino (677)\")\n",
    "\n",
    "names(pop.labs) <- c(\"aa\", \"eur\",\"lat\")\n",
    "p <- p + facet_grid(~pop,labeller = labeller(pop=pop.labs))  + ylim(0,5)\n",
    "\n",
    "p + theme(axis.text.x = element_text(angle = 0, hjust = 0.5)) + \n",
    "  xlab(\"Position 97\") + ylab(\"HIV-1 viral load (log10(copies/ml), unadjusted)\")\n",
    "\n",
    "ggsave(\"../figs/SF20_spVL97.pdf\",width=10,height=6)\n"
   ]
  },
  {
   "cell_type": "markdown",
   "metadata": {},
   "source": [
    "## reported amino acid frequencies (SF21)"
   ]
  },
  {
   "cell_type": "code",
   "execution_count": null,
   "metadata": {},
   "outputs": [],
   "source": [
    "frq <-read.table(\"../data/HIV_AA_freqs.txt\",h=T,stringsAsFactors = F)\n",
    "\n",
    "df <- data.frame(pos=paste(frq$gene,frq$residue,frq$amino_acid,sep=\"-\"),\n",
    "                 AA=frq$AA,EUR=frq$EUR,LAT=frq$LAT)\n",
    "\n",
    "plt.df <- melt(df)\n",
    "\n",
    "plt.df$pos <- factor(plt.df$pos,levels = levels(plt.df$pos)[c(1:6,18:35,7:17)])\n",
    "\n",
    "xlabels <- c(frq[frq$residue==77,3],frq[frq$residue==95,3],\n",
    "                      frq[frq$residue==45,3],frq[frq$residue==63,3],\n",
    "                      frq[frq$residue==67,3],frq[frq$residue==97,3],\n",
    "                      frq[frq$residue==116,3],frq[frq$residue==156,3],frq[frq$residue==245,3])\n",
    "\n",
    "\n",
    "plt.frq <- ggplot(plt.df,aes(x=pos,y=value,fill=variable))+\n",
    "  geom_bar(stat =\"identity\", position = \"dodge\") +\n",
    "  scale_fill_manual(values=pop_colors[c(1,3,4)],\n",
    "                          labels=pop_labels[c(1,3,4)],\n",
    "                    name = \"Population\")\n",
    "\n",
    "plt.frq <- plt.frq + theme(axis.text.x=element_text(angle=45, hjust=1),legend.position=\"top\") +\n",
    "  ylab(\"Frequency\") + xlab(\"\") \n",
    "\n",
    "plt.frq + scale_x_discrete(labels=xlabels)\n",
    "\n",
    "ggsave(\"../figs/SF21_hiv_res_freq.pdf\",width=15,height=8)"
   ]
  },
  {
   "cell_type": "markdown",
   "metadata": {},
   "source": [
    "## spVL of all haplotypes (SF22)"
   ]
  },
  {
   "cell_type": "code",
   "execution_count": null,
   "metadata": {},
   "outputs": [],
   "source": [
    "tidyData <- function(pop=\"eur\",haplo = read.table(\"../data/haplo.3.txt\",sep=\",\",h=F,stringsAsFactors = F )){\n",
    "  # read in data\n",
    "  fname <- paste(\"../data/\",pop,\".3.phased.gz\",sep=\"\")\n",
    "  x<-read.table(fname,h=F,stringsAsFactors = F)\n",
    "  sample <- scan(paste(\"../data/\",pop,\".header\",sep=\"\"),as.character())\n",
    "  phenoALL <- read.table(paste(\"../data/\",pop,\".pheno\",sep = \"\"),h=F,stringsAsFactors = F)\n",
    "  pheno <- phenoALL %>% filter(V1 %in% sample) %>% filter(V3!=-9)\n",
    "  plt.df <- NULL\n",
    "  for (i in c(1:nrow(haplo))){\n",
    "    geno <- t(x[x[,2] %in% haplo[i,],])\n",
    "    resString <- paste(apply(haplo[i,],2,function(x){paste(unlist(strsplit(x,\"_\"))[c(3,6)],collapse = \"\")}),collapse = \"-\")\n",
    "    #print(resString)\n",
    "    plt.df <- rbind(plt.df,data.frame(sample=pheno$V1,vl=pheno$V3,res=resString,\n",
    "                                      present=ifelse(pheno$V1 %in% sample[rowSums(geno == \"T\") == 3],1,0),\n",
    "                                      pop=pop)\n",
    "    )\n",
    "  }\n",
    "  return(plt.df)\n",
    "}\n",
    "\n",
    "plt.df <- rbind(tidyData(pop=\"aa\"),tidyData(pop=\"eur\"),tidyData(pop=\"lat\"))\n"
   ]
  },
  {
   "cell_type": "code",
   "execution_count": null,
   "metadata": {},
   "outputs": [],
   "source": [
    "plt.df$pop <- factor(plt.df$pop,levels=c(\"eur\",\"aa\",\"lat\"))\n",
    "\n",
    "p <- ggplot(plt.df %>% filter(present==1), \n",
    "            aes(reorder(res,vl,FUN=median),y=vl)) \n",
    "#p <- p +  geom_boxplot(outlier.shape = NA) + theme_bw() \n",
    "p <- p  + stat_summary(fun.data = mean_cl_boot, geom = \"errorbar\", aes(width=0.5),colour = \"black\", size=1) + \n",
    "  stat_summary(fun.y = mean, geom = \"point\", colour = \"black\",size=2)\n",
    "#p <- p + geom_violin()+ theme_bw()\n",
    "\n",
    "# New facet label names for populations\n",
    "pop.labs <- c(\"Admixed African\", \"European\",\"Latino\")\n",
    "\n",
    "names(pop.labs) <- c(\"aa\", \"eur\",\"lat\")\n",
    "p <- p + facet_grid(~pop,labeller = labeller(pop=pop.labs)) + theme_bw() + ylim(0,5)\n",
    "\n",
    "p + theme(axis.text.x = element_text(angle = 90, hjust = 1)) + \n",
    "  xlab(\"\") + ylab(\"HIV-1 viral load (log10(copies/ml), unadjusted)\")\n",
    "\n",
    "ggsave(\"../figs/SF22_haplotype_spVL.png\", height = 8, width = 12)\n"
   ]
  },
  {
   "cell_type": "markdown",
   "metadata": {},
   "source": [
    "## multi-ethnic amino acid effect size (SF23)"
   ]
  },
  {
   "cell_type": "code",
   "execution_count": null,
   "metadata": {},
   "outputs": [],
   "source": [
    "df <-read.table(\"../data/HIV_AA_summary.txt\",h=T,stringsAsFactors = F)\n",
    "\n",
    "df$label <- paste(df$aa_name,df$res,sep=\"\")\n",
    "df$reported <- paste(df$Current,df$McLaren_2012_AA,df$McLaren_2015_Euro,sep=\"\")\n",
    "\n",
    "df.plt = data.frame(AA = c(df$label,rep(\"\", nrow(df)), rep(\"\", nrow(df))),\n",
    "                x = rep(df$joint_beta, 3),\n",
    "                x.se = rep(df$joint_se, 3),\n",
    "                y = c(df$aa_beta, df$eur_beta, df$lat_beta),\n",
    "                y.se = c(df$aa_se, df$eur_se, df$lat_se),\n",
    "                pop = rep(c(\"AA\", \"EUR\" ,\"LAT\"), each = nrow(df)),\n",
    "                reported = rep(df$reported,3))\n",
    "\n",
    "plt =\n",
    "  df.plt %>% # filter(reported==\"100\" | reported==\"110\"| reported==\"101\") %>%\n",
    "  ggplot(aes(x, y, shape = as.factor(reported), colour=pop)) +\n",
    "  geom_abline(slope = 1, intercept = 0, linetype=\"dashed\") +\n",
    "  geom_errorbar(aes(ymin = y - y.se, ymax = y + y.se)) +\n",
    "  geom_errorbarh(aes(xmin = x - x.se, xmax = x + x.se)) +\n",
    "  geom_text_repel(aes(label = AA), show.legend = F, box.padding = 1.5, col = \"grey20\") +\n",
    "  geom_point(size=3) +\n",
    "  xlab('Effect size (joint)') +ylab('Effect size (other)')+\n",
    "  theme_bw() +\n",
    "  theme(text = element_text(size = 16))\n",
    "\n",
    "\n",
    "pop_colors <- c(\"#938dd2\",\"#56B4E9\",\"#D55E00\")\n",
    "pop_labels <- c(\"Admixed African\",\"European\",\"Latino\")\n",
    "\n",
    "\n",
    "plt + xlim(-1,0.7) + ylim(-1,0.7) +\n",
    "  scale_color_manual(values=pop_colors,\n",
    "                    labels=pop_labels,\n",
    "                    name = \"Population\") +\n",
    "  scale_shape_manual(values=c(0,1,2,7,13,18),labels = c(\"Only reported in European\",\n",
    "                                                     \"Only reported in African American\",\n",
    "                                                     \"Only reported in this study\",\n",
    "                                                     \"Reported in European and this study\",\n",
    "                                                    \"Reported in African American and this study\",\n",
    "                                                   \"ALL\"),\n",
    "                     name = \"Reported association\") +\n",
    "  theme(legend.position = \"top\",legend.direction = \"vertical\")\n",
    "\n",
    "\n",
    "ggsave(\"../figs/SF23_HIV_aa_comparison.pdf\",height=8,width=8)\n"
   ]
  },
  {
   "cell_type": "markdown",
   "metadata": {},
   "source": [
    "## conditional analysis of previous signals (SF24)"
   ]
  },
  {
   "cell_type": "code",
   "execution_count": null,
   "metadata": {},
   "outputs": [],
   "source": [
    "aa.manhattan <- function(df = assoc, showxlab = TRUE,  showylab = FALSE, hlight=c(\"B-97\"),\n",
    "                         nudge_value = -20,eurhlight=eur_aa,aahlight=afr_aa){\n",
    "    df.assoc <- NULL\n",
    "    genes <- c(\"A\",\"C\",\"B\",\"DRB1\",\"DQA1\",\"DQB1\",\"DPA1\",\"DPB1\")\n",
    "    for (gene in genes){\n",
    "        assoc <- df %>% filter(grepl(\"AA_\",AA_ID)) %>% na.omit() %>% \n",
    "            select(GENE,AA_POS,POS,PVALUE, SNP) %>%  group_by(GENE) %>% arrange(AA_POS)\n",
    "        df1 <- assoc\n",
    "        df.tmp <- df1[df1$GENE==gene, ]\n",
    "        df.tmp$BP <- abs(df.tmp$AA_POS - df.tmp$AA_POS[1] )\n",
    "        df.assoc <- rbind(df.assoc, df.tmp)\n",
    "    }\n",
    "\n",
    "    df.tmp <- df.assoc %>% \n",
    "        # compute gene length\n",
    "        group_by(GENE) %>% mutate(rowID = 1:n()) \n",
    "\n",
    "    df.assoc <- df.tmp %>% summarise(gene_len=length(BP) ) %>% arrange(genes) %>%\n",
    "        # calcuate cumulative positoin of each gene\n",
    "            mutate(tot = cumsum(gene_len) - gene_len + 50) %>%\n",
    "\n",
    "        # add info\n",
    "        left_join(df.tmp,., by=c(\"GENE\"=\"GENE\")) %>%\n",
    "\n",
    "        # Add a cumulate position of each amino acid\n",
    "        arrange(GENE,rowID) %>% mutate(BPcum = tot + rowID) %>%\n",
    "    \n",
    "        # Add highlight and annotation information\n",
    "        mutate( is_highlight=ifelse(SNP %in% hlight, \"yes\", \"no\")) %>%\n",
    "        mutate( is_annotate=ifelse(SNP %in% hlight, \"yes\", \"no\")) %>%\n",
    "    \n",
    "        # Add highlight and annotation information European\n",
    "      mutate( is_highlight_eur=ifelse(SNP %in% eurhlight, \"yes\", \"no\")) %>%\n",
    "      mutate( is_annotate_eur=ifelse(SNP %in% eurhlight, \"yes\", \"no\")) %>%\n",
    "    \n",
    "        # Add highlight and annotation information from African American reported value\n",
    "        mutate( is_highlight_aa=ifelse(SNP %in% aahlight, \"yes\", \"no\")) %>%\n",
    "        mutate( is_annotate_aa=ifelse(SNP %in% aahlight, \"yes\", \"no\"))\n",
    "  \n",
    "    \n",
    "    axisdf <- df.assoc %>% group_by(GENE) %>% summarize(center=( max(BPcum) + min(BPcum) ) / 2 ) %>% arrange(genes)\n",
    "\n",
    "    p <- ggplot(df.assoc, aes(x = BPcum, y = -log10(PVALUE), size = -log10(PVALUE))) + \n",
    "    geom_point( shape = 23)\n",
    "    \n",
    "    ymax <- max(-log10(df.assoc$PVALUE))*1.5\n",
    "    p <- p + scale_fill_manual( values = gene_colors) + \n",
    "        scale_x_continuous( label = genes, breaks= axisdf$center ) +\n",
    "        labs(x = \"Amino acid positions\") + \n",
    "        scale_y_continuous(limits=c(0,ymax), breaks = scales::pretty_breaks(n=4))\n",
    "\n",
    "    # Add highlighted points\n",
    "    p <- p + geom_point(data=subset(df.assoc, is_highlight==\"yes\"), fill=\"darkred\",size =5, pch=23) \n",
    "\n",
    "    p <- p + geom_point(data=subset(df.assoc, is_highlight_aa==\"yes\"), fill=pop_colors[1],size =5, pch=23) +\n",
    "     geom_point(data=subset(df.assoc, is_highlight_eur==\"yes\"), fill=pop_colors[2], size = 5, pch=23) \n",
    "    p <- p + \n",
    "        # Add label using ggrepel to avoid overlapping\n",
    "        geom_text_repel(data=df.assoc[df.assoc$is_annotate==\"yes\",], \n",
    "                     aes(label=as.factor(SNP)), size=6,\n",
    "                        nudge_x = -nudge_value, segment.size = 0.2, show.legend = FALSE) \n",
    "    \n",
    "    p <- p + \n",
    "    geom_text_repel(data=df.assoc[df.assoc$is_annotate_aa==\"yes\",], \n",
    "                     aes(label=as.factor(SNP)), size=6,\n",
    "                        nudge_x = nudge_value, segment.size = 0.2, show.legend = FALSE) +\n",
    "    \n",
    "    geom_text_repel(data=df.assoc[df.assoc$is_annotate_eur==\"yes\",], \n",
    "                     aes(label=as.factor(SNP)), size=6,\n",
    "                        nudge_x = - nudge_value, segment.size = 0.2, show.legend = FALSE) \n",
    "    \n",
    "    # add genome-wide threshold\n",
    "    p <- p + geom_hline(yintercept = -log10(5e-8),linetype=\"dashed\", color=\"black\")\n",
    "    # whether needs the xlabs\n",
    "    if(showxlab == TRUE){\n",
    "        p <- p + theme(legend.position = \"none\",axis.text.x = element_text(angle = 90)) \n",
    "    }else{\n",
    "        p<- p + theme(legend.position = \"none\",axis.title.x = element_blank(), axis.text.x = element_blank())\n",
    "\n",
    "    }\n",
    "    if(showylab == TRUE){\n",
    "        p <- p + theme(legend.position = \"none\") + ylab(\"-log10(P)\")\n",
    "    }else{\n",
    "        p <- p + theme(legend.position = \"none\",axis.title.y = element_blank()) \n",
    "\n",
    "    }\n",
    "}"
   ]
  },
  {
   "cell_type": "code",
   "execution_count": null,
   "metadata": {},
   "outputs": [],
   "source": [
    "# previously reported amino acid positions\n",
    "eur_aa <- c(\"B-97\", \"B-67\", \"A-77\", \"B-45\", \"A-95\")\n",
    "afr_aa <- c(\"B-97\"  ,\"B-245\", \"B-116\", \"B-63\" )\n",
    "\n"
   ]
  },
  {
   "cell_type": "code",
   "execution_count": null,
   "metadata": {},
   "outputs": [],
   "source": [
    "# condition on four amino acid positions identified in this study (B97, B67, B156, A77)\n",
    "df <- read.table(\"../data/all.4th.txt\",h=T,stringsAsFactors = F)\n",
    "assoc <- df[ df$AA_POS>0,]\n",
    "assoc$SNP <- paste(assoc$GENE,assoc$AA_POS,sep=\"-\")\n",
    "x <- na.omit(assoc)\n",
    "x[x$PVALUE<5e-8,] %>% filter(grepl(\"AA_\",AA_ID))\n",
    "\n",
    "p.current <- aa.manhattan(df = assoc,eurhlight=eur_aa,aahlight=afr_aa,showylab=FALSE)\n",
    "\n",
    "p.current\n"
   ]
  },
  {
   "cell_type": "code",
   "execution_count": null,
   "metadata": {},
   "outputs": [],
   "source": [
    "# condition on four amino acid positions identified in other sutides only (B45, B63, B116, A95)\n",
    "current_aa <- c(\"B-97\"  ,\"B-156\", \"B-67\" )\n",
    "\n",
    "df <- read.table(\"../data/all.previous.txt\",h=T,stringsAsFactors = F)\n",
    "assoc <- df[ df$AA_POS>0,]\n",
    "assoc$SNP <- paste(assoc$GENE,assoc$AA_POS,sep=\"-\")\n",
    "x <- na.omit(assoc)\n",
    "\n",
    "p.previous <- aa.manhattan(df = assoc,hlight=current_aa,aahlight=NULL,eurhlight=NULL,showylab=FALSE)\n",
    "\n",
    "p.previous\n"
   ]
  },
  {
   "cell_type": "code",
   "execution_count": null,
   "metadata": {},
   "outputs": [],
   "source": [
    "# combine two plots\n",
    "\n",
    "prow <- plot_grid( p.current + theme(legend.position=\"none\"),\n",
    "           p.previous + theme(legend.position=\"none\"),\n",
    "           align = 'vh',\n",
    "           labels = c(\"(a)\", \"(b)\"),\n",
    "           hjust = .2,\n",
    "           nrow = 1\n",
    "           )\n",
    "y.grob <- textGrob(expression(-log10(P[omnibus])), \n",
    "                   gp=gpar(fontface=\"bold\", col=\"black\", fontsize=20), rot=90, vjust = .3)\n",
    "\n",
    "#add to plot\n",
    "\n",
    "\n",
    "png(\"../figs/SF24_hiv_conditional_previous_aas.png\", height = 7, width = 12, units= \"in\", res=200)\n",
    "    \n",
    "grid.arrange(arrangeGrob(prow, left = y.grob))\n",
    "\n",
    "dev.off()"
   ]
  },
  {
   "cell_type": "code",
   "execution_count": null,
   "metadata": {},
   "outputs": [],
   "source": []
  }
 ],
 "metadata": {
  "kernelspec": {
   "display_name": "R",
   "language": "R",
   "name": "ir"
  },
  "language_info": {
   "codemirror_mode": "r",
   "file_extension": ".r",
   "mimetype": "text/x-r-source",
   "name": "R",
   "pygments_lexer": "r",
   "version": "3.6.1"
  },
  "toc-autonumbering": true,
  "toc-showcode": true,
  "toc-showmarkdowntxt": true
 },
 "nbformat": 4,
 "nbformat_minor": 4
}
